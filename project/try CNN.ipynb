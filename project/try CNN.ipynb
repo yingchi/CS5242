{
 "cells": [
  {
   "cell_type": "code",
   "execution_count": 13,
   "metadata": {},
   "outputs": [],
   "source": [
    "%matplotlib inline\n",
    "import numpy as np\n",
    "import pandas as pd\n",
    "from math import floor\n",
    "from scipy.spatial import distance\n",
    "\n",
    "def read_pdb(filename):\n",
    "    with open(filename, 'r') as file:\n",
    "        strline_L = file.readlines()\n",
    "    X_list = list()\n",
    "    Y_list = list()\n",
    "    Z_list = list()\n",
    "    atomtype_list = list()\n",
    "    for strline in strline_L:\n",
    "        # removes all whitespace at the start and end, including spaces, tabs, newlines and carriage returns\n",
    "        stripped_line = strline.strip()\n",
    "\n",
    "        line_length = len(stripped_line)\n",
    "        # print(\"Line length:{}\".format(line_length))\n",
    "        if line_length < 78:\n",
    "            print(\"ERROR: line length is different. Expected>=78, current={}\".format(line_length))\n",
    "        X_list.append(float(stripped_line[30:38].strip()))\n",
    "        Y_list.append(float(stripped_line[38:46].strip()))\n",
    "        Z_list.append(float(stripped_line[46:54].strip()))\n",
    "\n",
    "        atomtype = stripped_line[76:78].strip()\n",
    "        if atomtype == 'C':\n",
    "            atomtype_list.append('h') # 'h' means hydrophobic\n",
    "        else:\n",
    "            atomtype_list.append('p') # 'p' means polar\n",
    "\n",
    "    return X_list, Y_list, Z_list, atomtype_list"
   ]
  },
  {
   "cell_type": "markdown",
   "metadata": {},
   "source": [
    "#### Set params"
   ]
  },
  {
   "cell_type": "code",
   "execution_count": 5,
   "metadata": {},
   "outputs": [],
   "source": [
    "x_lower = -50\n",
    "x_upper = 50\n",
    "y_lower = -50\n",
    "y_upper = 50\n",
    "z_lower = -50\n",
    "z_upper = 50\n",
    "unit = 1\n",
    "\n",
    "def point_within_vox(pt, x_lower=-50, x_upper=50, y_lower=-50, y_upper=50, z_lower=-50, z_upper=50):\n",
    "    (atom_x, atom_y, atom_z) = pt\n",
    "    check_x = (atom_x>=x_lower) and (atom_x<x_upper)\n",
    "    check_y = (atom_y>=y_lower) and (atom_y<y_upper)\n",
    "    check_z = (atom_z>=z_lower) and (atom_z<z_upper)\n",
    "    return check_x and check_y and check_z"
   ]
  },
  {
   "cell_type": "code",
   "execution_count": 8,
   "metadata": {},
   "outputs": [
    {
     "name": "stdout",
     "output_type": "stream",
     "text": [
      "701\n",
      "609\n"
     ]
    }
   ],
   "source": [
    "X_list, Y_list, Z_list, atomtype_list=read_pdb(\"training_data/0001_pro_cg.pdb\")\n",
    "all_atoms = list(zip(X_list, Y_list, Z_list, atomtype_list))\n",
    "print(len(all_atoms))\n",
    "use_atoms = [x for x in all_atoms if point_within_vox((x[0], x[1], x[2]))]\n",
    "print(len(use_atoms))"
   ]
  },
  {
   "cell_type": "code",
   "execution_count": 27,
   "metadata": {},
   "outputs": [],
   "source": [
    "def convert_xyz_to_vox(atoms_list, \n",
    "                       x_lower=-50, x_upper=50, y_lower=-50, \n",
    "                       y_upper=50, z_lower=-50, z_upper=50, unit=1): \n",
    "    width = x_upper-x_lower\n",
    "    vox_h = x = np.zeros((width, width, width))\n",
    "    vox_p = x = np.zeros((width, width, width))\n",
    "    \n",
    "    for atom in use_atoms:\n",
    "        (x, y, z, t) = atom\n",
    "        index_x = floor((x-x_lower)/unit)\n",
    "        index_y = floor((y-y_lower)/unit)\n",
    "        index_z = floor((z-z_lower)/unit)\n",
    "        if t =='h':\n",
    "            vox_h[index_z][index_x, index_y] += 1\n",
    "        elif t =='p':\n",
    "            vox_p[index_z][index_x, index_y] += 1\n",
    "\n",
    "    return (vox_h, vox_p)"
   ]
  },
  {
   "cell_type": "code",
   "execution_count": 28,
   "metadata": {},
   "outputs": [],
   "source": [
    "(vox_h, vox_p) = convert_xyz_to_vox(use_atoms)"
   ]
  },
  {
   "cell_type": "code",
   "execution_count": 30,
   "metadata": {},
   "outputs": [
    {
     "data": {
      "text/plain": [
       "(100, 100, 100)"
      ]
     },
     "execution_count": 30,
     "metadata": {},
     "output_type": "execute_result"
    }
   ],
   "source": [
    "vox_h.shape"
   ]
  },
  {
   "cell_type": "code",
   "execution_count": 22,
   "metadata": {},
   "outputs": [],
   "source": [
    "test = np.zeros((5,5,5))"
   ]
  },
  {
   "cell_type": "code",
   "execution_count": 25,
   "metadata": {},
   "outputs": [],
   "source": [
    "test[4][2, 3] = 1"
   ]
  },
  {
   "cell_type": "code",
   "execution_count": 26,
   "metadata": {},
   "outputs": [
    {
     "data": {
      "text/plain": [
       "array([[0., 0., 0., 0., 0.],\n",
       "       [0., 0., 0., 0., 0.],\n",
       "       [0., 0., 0., 1., 0.],\n",
       "       [0., 0., 0., 0., 0.],\n",
       "       [0., 0., 0., 0., 0.]])"
      ]
     },
     "execution_count": 26,
     "metadata": {},
     "output_type": "execute_result"
    }
   ],
   "source": [
    "test[4]"
   ]
  },
  {
   "cell_type": "code",
   "execution_count": null,
   "metadata": {},
   "outputs": [],
   "source": []
  }
 ],
 "metadata": {
  "anaconda-cloud": {},
  "kernelspec": {
   "display_name": "Python [conda env:CS5242]",
   "language": "python",
   "name": "conda-env-CS5242-py"
  },
  "language_info": {
   "codemirror_mode": {
    "name": "ipython",
    "version": 3
   },
   "file_extension": ".py",
   "mimetype": "text/x-python",
   "name": "python",
   "nbconvert_exporter": "python",
   "pygments_lexer": "ipython3",
   "version": "3.6.6"
  }
 },
 "nbformat": 4,
 "nbformat_minor": 2
}
