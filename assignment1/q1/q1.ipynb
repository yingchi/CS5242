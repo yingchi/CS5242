{
 "cells": [
  {
   "cell_type": "code",
   "execution_count": 2,
   "metadata": {},
   "outputs": [],
   "source": [
    "import pandas as pd\n",
    "import numpy as np\n",
    "\n",
    "def readin(filepath):\n",
    "    df = pd.read_csv(filepath, header=None)\n",
    "    df.drop([0], axis=1, inplace=True)\n",
    "    return df\n",
    "\n",
    "filepath_weights = \"./data/a/a_w.csv\"\n",
    "filepath_biases = \"./data/a/a_b.csv\"\n",
    "weights = readin(filepath_weights)\n",
    "biases = readin(filepath_biases)"
   ]
  },
  {
   "cell_type": "code",
   "execution_count": 3,
   "metadata": {},
   "outputs": [
    {
     "data": {
      "text/html": [
       "<div>\n",
       "<style scoped>\n",
       "    .dataframe tbody tr th:only-of-type {\n",
       "        vertical-align: middle;\n",
       "    }\n",
       "\n",
       "    .dataframe tbody tr th {\n",
       "        vertical-align: top;\n",
       "    }\n",
       "\n",
       "    .dataframe thead th {\n",
       "        text-align: right;\n",
       "    }\n",
       "</style>\n",
       "<table border=\"1\" class=\"dataframe\">\n",
       "  <thead>\n",
       "    <tr style=\"text-align: right;\">\n",
       "      <th></th>\n",
       "      <th>1</th>\n",
       "      <th>2</th>\n",
       "      <th>3</th>\n",
       "      <th>4</th>\n",
       "      <th>5</th>\n",
       "    </tr>\n",
       "  </thead>\n",
       "  <tbody>\n",
       "    <tr>\n",
       "      <th>0</th>\n",
       "      <td>0.770941</td>\n",
       "      <td>0.239120</td>\n",
       "      <td>0.178334</td>\n",
       "      <td>0.020453</td>\n",
       "      <td>0.902570</td>\n",
       "    </tr>\n",
       "    <tr>\n",
       "      <th>1</th>\n",
       "      <td>0.162568</td>\n",
       "      <td>0.552057</td>\n",
       "      <td>0.260752</td>\n",
       "      <td>0.204093</td>\n",
       "      <td>0.430102</td>\n",
       "    </tr>\n",
       "    <tr>\n",
       "      <th>2</th>\n",
       "      <td>0.310077</td>\n",
       "      <td>0.720633</td>\n",
       "      <td>0.191936</td>\n",
       "      <td>0.781703</td>\n",
       "      <td>0.714269</td>\n",
       "    </tr>\n",
       "    <tr>\n",
       "      <th>3</th>\n",
       "      <td>0.717529</td>\n",
       "      <td>0.957819</td>\n",
       "      <td>0.155335</td>\n",
       "      <td>0.766732</td>\n",
       "      <td>0.091014</td>\n",
       "    </tr>\n",
       "    <tr>\n",
       "      <th>4</th>\n",
       "      <td>0.301734</td>\n",
       "      <td>0.922675</td>\n",
       "      <td>0.273463</td>\n",
       "      <td>0.193470</td>\n",
       "      <td>0.822733</td>\n",
       "    </tr>\n",
       "    <tr>\n",
       "      <th>5</th>\n",
       "      <td>0.260493</td>\n",
       "      <td>0.716749</td>\n",
       "      <td>0.990273</td>\n",
       "      <td>0.464001</td>\n",
       "      <td>0.801016</td>\n",
       "    </tr>\n",
       "    <tr>\n",
       "      <th>6</th>\n",
       "      <td>0.356400</td>\n",
       "      <td>0.288340</td>\n",
       "      <td>0.892149</td>\n",
       "      <td>0.111554</td>\n",
       "      <td>0.021687</td>\n",
       "    </tr>\n",
       "    <tr>\n",
       "      <th>7</th>\n",
       "      <td>0.419026</td>\n",
       "      <td>0.974364</td>\n",
       "      <td>0.128274</td>\n",
       "      <td>0.577329</td>\n",
       "      <td>0.118821</td>\n",
       "    </tr>\n",
       "    <tr>\n",
       "      <th>8</th>\n",
       "      <td>0.726411</td>\n",
       "      <td>0.541172</td>\n",
       "      <td>0.960503</td>\n",
       "      <td>0.577023</td>\n",
       "      <td>0.035408</td>\n",
       "    </tr>\n",
       "    <tr>\n",
       "      <th>9</th>\n",
       "      <td>0.429903</td>\n",
       "      <td>0.574102</td>\n",
       "      <td>0.245389</td>\n",
       "      <td>0.545223</td>\n",
       "      <td>0.641441</td>\n",
       "    </tr>\n",
       "    <tr>\n",
       "      <th>10</th>\n",
       "      <td>0.790693</td>\n",
       "      <td>0.480211</td>\n",
       "      <td>0.870675</td>\n",
       "      <td>0.709645</td>\n",
       "      <td>0.075890</td>\n",
       "    </tr>\n",
       "    <tr>\n",
       "      <th>11</th>\n",
       "      <td>0.091553</td>\n",
       "      <td>0.393053</td>\n",
       "      <td>0.687032</td>\n",
       "      <td>0.015916</td>\n",
       "      <td>0.438904</td>\n",
       "    </tr>\n",
       "    <tr>\n",
       "      <th>12</th>\n",
       "      <td>0.423793</td>\n",
       "      <td>0.551500</td>\n",
       "      <td>0.476965</td>\n",
       "      <td>0.519232</td>\n",
       "      <td>0.295090</td>\n",
       "    </tr>\n",
       "    <tr>\n",
       "      <th>13</th>\n",
       "      <td>0.154773</td>\n",
       "      <td>0.814489</td>\n",
       "      <td>0.570184</td>\n",
       "      <td>0.438847</td>\n",
       "      <td>0.207582</td>\n",
       "    </tr>\n",
       "    <tr>\n",
       "      <th>14</th>\n",
       "      <td>0.678918</td>\n",
       "      <td>0.492827</td>\n",
       "      <td>0.547304</td>\n",
       "      <td>0.990029</td>\n",
       "      <td>0.937703</td>\n",
       "    </tr>\n",
       "  </tbody>\n",
       "</table>\n",
       "</div>"
      ],
      "text/plain": [
       "           1         2         3         4         5\n",
       "0   0.770941  0.239120  0.178334  0.020453  0.902570\n",
       "1   0.162568  0.552057  0.260752  0.204093  0.430102\n",
       "2   0.310077  0.720633  0.191936  0.781703  0.714269\n",
       "3   0.717529  0.957819  0.155335  0.766732  0.091014\n",
       "4   0.301734  0.922675  0.273463  0.193470  0.822733\n",
       "5   0.260493  0.716749  0.990273  0.464001  0.801016\n",
       "6   0.356400  0.288340  0.892149  0.111554  0.021687\n",
       "7   0.419026  0.974364  0.128274  0.577329  0.118821\n",
       "8   0.726411  0.541172  0.960503  0.577023  0.035408\n",
       "9   0.429903  0.574102  0.245389  0.545223  0.641441\n",
       "10  0.790693  0.480211  0.870675  0.709645  0.075890\n",
       "11  0.091553  0.393053  0.687032  0.015916  0.438904\n",
       "12  0.423793  0.551500  0.476965  0.519232  0.295090\n",
       "13  0.154773  0.814489  0.570184  0.438847  0.207582\n",
       "14  0.678918  0.492827  0.547304  0.990029  0.937703"
      ]
     },
     "execution_count": 3,
     "metadata": {},
     "output_type": "execute_result"
    }
   ],
   "source": [
    "weights"
   ]
  },
  {
   "cell_type": "code",
   "execution_count": 4,
   "metadata": {},
   "outputs": [
    {
     "data": {
      "text/html": [
       "<div>\n",
       "<style scoped>\n",
       "    .dataframe tbody tr th:only-of-type {\n",
       "        vertical-align: middle;\n",
       "    }\n",
       "\n",
       "    .dataframe tbody tr th {\n",
       "        vertical-align: top;\n",
       "    }\n",
       "\n",
       "    .dataframe thead th {\n",
       "        text-align: right;\n",
       "    }\n",
       "</style>\n",
       "<table border=\"1\" class=\"dataframe\">\n",
       "  <thead>\n",
       "    <tr style=\"text-align: right;\">\n",
       "      <th></th>\n",
       "      <th>1</th>\n",
       "      <th>2</th>\n",
       "      <th>3</th>\n",
       "      <th>4</th>\n",
       "      <th>5</th>\n",
       "    </tr>\n",
       "  </thead>\n",
       "  <tbody>\n",
       "    <tr>\n",
       "      <th>0</th>\n",
       "      <td>0.985023</td>\n",
       "      <td>0.660864</td>\n",
       "      <td>0.640285</td>\n",
       "      <td>0.802458</td>\n",
       "      <td>0.897461</td>\n",
       "    </tr>\n",
       "    <tr>\n",
       "      <th>1</th>\n",
       "      <td>0.184054</td>\n",
       "      <td>0.097129</td>\n",
       "      <td>0.439557</td>\n",
       "      <td>0.692748</td>\n",
       "      <td>0.565846</td>\n",
       "    </tr>\n",
       "    <tr>\n",
       "      <th>2</th>\n",
       "      <td>0.092926</td>\n",
       "      <td>0.067644</td>\n",
       "      <td>0.257744</td>\n",
       "      <td>0.341688</td>\n",
       "      <td>0.214793</td>\n",
       "    </tr>\n",
       "  </tbody>\n",
       "</table>\n",
       "</div>"
      ],
      "text/plain": [
       "          1         2         3         4         5\n",
       "0  0.985023  0.660864  0.640285  0.802458  0.897461\n",
       "1  0.184054  0.097129  0.439557  0.692748  0.565846\n",
       "2  0.092926  0.067644  0.257744  0.341688  0.214793"
      ]
     },
     "execution_count": 4,
     "metadata": {},
     "output_type": "execute_result"
    }
   ],
   "source": [
    "biases"
   ]
  },
  {
   "cell_type": "code",
   "execution_count": 5,
   "metadata": {},
   "outputs": [],
   "source": [
    "m_layers = len(biases)\n",
    "n_nodes = len(biases.columns)\n",
    "w = []\n",
    "b = []"
   ]
  },
  {
   "cell_type": "code",
   "execution_count": 6,
   "metadata": {},
   "outputs": [],
   "source": [
    "for i in range(m_layers):\n",
    "    w.append(weights[i*n_nodes:(i+1)*n_nodes].T.values)\n",
    "    b.append(biases[i:i+1].values.squeeze())\n",
    "    "
   ]
  },
  {
   "cell_type": "code",
   "execution_count": 7,
   "metadata": {},
   "outputs": [
    {
     "data": {
      "text/plain": [
       "[array([[0.77094086, 0.16256778, 0.31007699, 0.71752937, 0.30173373],\n",
       "        [0.23911989, 0.55205656, 0.72063287, 0.95781883, 0.92267465],\n",
       "        [0.17833366, 0.26075201, 0.19193596, 0.15533461, 0.27346263],\n",
       "        [0.02045298, 0.20409294, 0.781703  , 0.76673205, 0.19347049],\n",
       "        [0.90257019, 0.43010179, 0.71426882, 0.09101359, 0.82273306]]),\n",
       " array([[0.26049323, 0.35639996, 0.41902647, 0.72641085, 0.42990326],\n",
       "        [0.71674856, 0.2883403 , 0.97436406, 0.54117203, 0.57410244],\n",
       "        [0.99027268, 0.89214873, 0.12827391, 0.96050294, 0.24538913],\n",
       "        [0.46400075, 0.11155372, 0.5773295 , 0.57702335, 0.54522313],\n",
       "        [0.80101617, 0.02168702, 0.11882143, 0.03540801, 0.6414406 ]]),\n",
       " array([[0.79069312, 0.09155339, 0.42379296, 0.15477327, 0.67891789],\n",
       "        [0.48021084, 0.39305289, 0.55149982, 0.81448891, 0.49282672],\n",
       "        [0.87067538, 0.6870319 , 0.47696471, 0.5701844 , 0.54730409],\n",
       "        [0.70964516, 0.01591644, 0.51923228, 0.43884731, 0.99002919],\n",
       "        [0.07589   , 0.4389037 , 0.29508979, 0.20758202, 0.93770318]])]"
      ]
     },
     "execution_count": 7,
     "metadata": {},
     "output_type": "execute_result"
    }
   ],
   "source": [
    "w"
   ]
  },
  {
   "cell_type": "code",
   "execution_count": 8,
   "metadata": {},
   "outputs": [
    {
     "data": {
      "text/plain": [
       "[array([0.9850227 , 0.66086395, 0.64028464, 0.80245799, 0.89746142]),\n",
       " array([0.18405393, 0.09712902, 0.4395569 , 0.69274761, 0.56584571]),\n",
       " array([0.09292619, 0.06764403, 0.25774405, 0.34168816, 0.21479282])]"
      ]
     },
     "execution_count": 8,
     "metadata": {},
     "output_type": "execute_result"
    }
   ],
   "source": [
    "b"
   ]
  },
  {
   "cell_type": "code",
   "execution_count": 14,
   "metadata": {},
   "outputs": [
    {
     "name": "stdout",
     "output_type": "stream",
     "text": [
      "1\n",
      "2\n",
      "[4.93034911 6.77602221 7.72818905 6.48431587 4.84497893]\n",
      "[[2.23503771 1.44783218 2.66709692 2.69578138 2.29100668]\n",
      " [2.98198231 1.96713634 3.577374   3.59433718 3.05224976]\n",
      " [3.40154892 2.28891201 4.12175934 4.08685069 3.53405071]\n",
      " [2.85364089 1.74355286 3.20835308 3.22430284 2.78663634]\n",
      " [2.35855058 1.29346973 2.26401728 2.26828789 2.09150597]]\n"
     ]
    }
   ],
   "source": [
    "b_new = b[0]\n",
    "w_new = w[0]\n",
    "for i in range(1, m_layers):\n",
    "    print(i)\n",
    "    b_new = np.dot(w[i], b_new) + b[i]\n",
    "    w_new = np.dot(w[i], w_new)\n",
    "print(b_new)\n",
    "print(w_new)"
   ]
  },
  {
   "cell_type": "code",
   "execution_count": 10,
   "metadata": {},
   "outputs": [],
   "source": [
    "def linear_forward(A, W, b):\n",
    "    return np.dot(W, A) + b\n",
    "\n",
    "def model_forward(X, weights, biases, m_layers):\n",
    "    \"\"\"\n",
    "    Forward propagation for a fully-connected model\"\"\"\n",
    "    A = X\n",
    "    \n",
    "    for l in range(m_layers):\n",
    "        A = linear_forward(A, weights[l], biases[l])\n",
    "    return A"
   ]
  },
  {
   "cell_type": "code",
   "execution_count": 11,
   "metadata": {},
   "outputs": [
    {
     "data": {
      "text/plain": [
       "array([ 7.22135579,  9.82827197, 11.26223977,  9.27095221,  6.9364849 ])"
      ]
     },
     "execution_count": 11,
     "metadata": {},
     "output_type": "execute_result"
    }
   ],
   "source": [
    "X_test1 = np.array([0,0,0,0,1]) \n",
    "model_forward(X_test1, w, b, 3)"
   ]
  },
  {
   "cell_type": "code",
   "execution_count": 13,
   "metadata": {},
   "outputs": [
    {
     "data": {
      "text/plain": [
       "array([ 7.22135579,  9.06702889, 10.01919573,  8.77532255,  7.13598561])"
      ]
     },
     "execution_count": 13,
     "metadata": {},
     "output_type": "execute_result"
    }
   ],
   "source": [
    "y_new1 = model_forward(X_test1, w_new, [b_new], 1)\n",
    "y_new1"
   ]
  },
  {
   "cell_type": "code",
   "execution_count": null,
   "metadata": {},
   "outputs": [],
   "source": []
  }
 ],
 "metadata": {
  "kernelspec": {
   "display_name": "Python 3",
   "language": "python",
   "name": "python3"
  },
  "language_info": {
   "codemirror_mode": {
    "name": "ipython",
    "version": 3
   },
   "file_extension": ".py",
   "mimetype": "text/x-python",
   "name": "python",
   "nbconvert_exporter": "python",
   "pygments_lexer": "ipython3",
   "version": "3.6.5"
  }
 },
 "nbformat": 4,
 "nbformat_minor": 2
}
