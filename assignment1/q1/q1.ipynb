{
 "cells": [
  {
   "cell_type": "code",
   "execution_count": 10,
   "metadata": {},
   "outputs": [],
   "source": [
    "import pandas as pd\n",
    "import numpy as np\n",
    "\n",
    "def readin(filepath):\n",
    "    df = pd.read_csv(filepath, header=None)\n",
    "    df.drop([0], axis=1, inplace=True)\n",
    "    return df\n",
    "\n",
    "filepath_weights = \"./data/b/b_w.csv\"\n",
    "filepath_biases = \"./data/b/b_b.csv\"\n",
    "weights = readin(filepath_weights)\n",
    "biases = readin(filepath_biases)"
   ]
  },
  {
   "cell_type": "code",
   "execution_count": 11,
   "metadata": {},
   "outputs": [],
   "source": [
    "# weights\n",
    "# biases"
   ]
  },
  {
   "cell_type": "code",
   "execution_count": 12,
   "metadata": {},
   "outputs": [],
   "source": [
    "m_layers = len(biases)\n",
    "n_nodes = len(biases.columns)\n",
    "w = []\n",
    "b = []"
   ]
  },
  {
   "cell_type": "code",
   "execution_count": 13,
   "metadata": {},
   "outputs": [],
   "source": [
    "for i in range(m_layers):\n",
    "    w.append(weights[i*n_nodes:(i+1)*n_nodes].T.values)\n",
    "    b.append(biases[i:i+1].values.squeeze())    "
   ]
  },
  {
   "cell_type": "code",
   "execution_count": 14,
   "metadata": {},
   "outputs": [
    {
     "name": "stdout",
     "output_type": "stream",
     "text": [
      "[4.20869717 5.72944864 4.38338539 3.22271122 2.85044733]\n",
      "[[3.40024138 2.48222301 3.01782662 2.93995725 2.33681416]\n",
      " [5.34668342 4.0322299  4.6081539  4.73197673 3.25019999]\n",
      " [3.55671673 2.64465123 3.07145874 3.13733109 2.06166728]\n",
      " [2.70747384 2.03870195 2.331609   2.39768473 1.64790235]\n",
      " [2.17160681 1.71029264 1.83313118 1.96613715 1.32862212]]\n"
     ]
    }
   ],
   "source": [
    "b_new = b[0]\n",
    "w_new = w[0]\n",
    "for i in range(1, m_layers):\n",
    "    b_new = np.dot(w[i], b_new) + b[i]\n",
    "    w_new = np.dot(w[i], w_new)\n",
    "print(b_new)\n",
    "print(w_new)"
   ]
  },
  {
   "cell_type": "code",
   "execution_count": 15,
   "metadata": {},
   "outputs": [],
   "source": [
    "def linear_forward(A, W, b):\n",
    "    return np.dot(W, A) + b\n",
    "\n",
    "def model_forward(X, weights, biases, m_layers):\n",
    "    \"\"\"\n",
    "    Forward propagation for a fully-connected model\"\"\"\n",
    "    A = X\n",
    "    for l in range(m_layers):\n",
    "        A_prev = A\n",
    "        A = linear_forward(A_prev, weights[l], biases[l])\n",
    "    return A"
   ]
  },
  {
   "cell_type": "code",
   "execution_count": 16,
   "metadata": {},
   "outputs": [
    {
     "data": {
      "text/plain": [
       "array([6.54551133, 8.97964863, 6.44505267, 4.87061357, 4.17906945])"
      ]
     },
     "execution_count": 16,
     "metadata": {},
     "output_type": "execute_result"
    }
   ],
   "source": [
    "X_test1 = np.array([0,0,0,0,1]) \n",
    "model_forward(X_test1, w, b, 3)"
   ]
  },
  {
   "cell_type": "code",
   "execution_count": 17,
   "metadata": {},
   "outputs": [
    {
     "data": {
      "text/plain": [
       "array([6.54551133, 8.97964863, 6.44505267, 4.87061357, 4.17906945])"
      ]
     },
     "execution_count": 17,
     "metadata": {},
     "output_type": "execute_result"
    }
   ],
   "source": [
    "model_forward(X_test1, np.array([w_new]), np.array([b_new]), 1)"
   ]
  },
  {
   "cell_type": "code",
   "execution_count": 9,
   "metadata": {},
   "outputs": [
    {
     "name": "stdout",
     "output_type": "stream",
     "text": [
      "[ 7.22135579  9.82827197 11.26223977  9.27095221  6.9364849 ] \n",
      " [ 7.22135579  9.82827197 11.26223977  9.27095221  6.9364849 ]\n"
     ]
    }
   ],
   "source": [
    "out = np.matmul(w[2], np.matmul(w[1], np.matmul(w[0], X_test1) + b[0])+b[1])+b[2]\n",
    "out1 = np.matmul(w_new, X_test1) + b_new\n",
    "print(out,\"\\n\",out1)"
   ]
  },
  {
   "cell_type": "code",
   "execution_count": null,
   "metadata": {},
   "outputs": [],
   "source": []
  }
 ],
 "metadata": {
  "kernelspec": {
   "display_name": "Python 3",
   "language": "python",
   "name": "python3"
  },
  "language_info": {
   "codemirror_mode": {
    "name": "ipython",
    "version": 3
   },
   "file_extension": ".py",
   "mimetype": "text/x-python",
   "name": "python",
   "nbconvert_exporter": "python",
   "pygments_lexer": "ipython3",
   "version": "3.6.5"
  }
 },
 "nbformat": 4,
 "nbformat_minor": 2
}
