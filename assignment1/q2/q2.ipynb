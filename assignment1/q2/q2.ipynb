{
 "cells": [
  {
   "cell_type": "code",
   "execution_count": 6,
   "metadata": {},
   "outputs": [],
   "source": [
    "import numpy as np\n"
   ]
  },
  {
   "cell_type": "code",
   "execution_count": 1,
   "metadata": {},
   "outputs": [],
   "source": [
    "def softmax(x):\n",
    "    \"\"\"\n",
    "    Calculate the softmax over n input samples\n",
    "    \n",
    "    @param x: of shape(n, m). n is the number of data samples, m is the dimension\n",
    "    \"\"\"\n",
    "    x_exp = np.exp(x)\n",
    "    x_sum = np.sum(x_exp, axis=1, keepdims=True)\n",
    "    s = x_exp / x_sum\n",
    "    cache = x\n",
    "    return s, x\n",
    "\n",
    "\n",
    "def relu(Z):\n",
    "    A = np.maxium(0, Z)\n",
    "    cache = Z\n",
    "    return A, cache"
   ]
  },
  {
   "cell_type": "code",
   "execution_count": null,
   "metadata": {},
   "outputs": [],
   "source": [
    "def initialize_params_deep(layer_dims):\n",
    "    \"\"\"\n",
    "    @param layerdims -- python array containing the dimensions of each layer\n",
    "    @return \n",
    "    \"\"\"\n",
    "    np.random.seed(7)\n",
    "    params = {}\n",
    "    L = len(layer_dims)\n",
    "    \n",
    "    for l in range(1, L):\n",
    "        params['W' + str(l)] = np.random.rand(layer_dims[l], layer_dims[l-1])*0.01\n",
    "        params['b' + str(l)] = np.zeros((layer_dims[l], 1))\n",
    "        \n",
    "    return params\n",
    "\n",
    "\n",
    "def linear_forward(A, W, b):\n",
    "    Z = np.dot(A, W) + b\n",
    "    cache = (A, W, b)\n",
    "\n",
    "    return Z, cache\n",
    "\n",
    "\n",
    "def linear_activation_forward(A_prev, W, b, activation=\"relu\"):\n",
    "    if activation == \"relu\":\n",
    "        Z, linear_cache = linear_forward(A_prev, W, b)\n",
    "        A, activation_cache = relu(Z)\n",
    "    if activation == \"softmax\":\n",
    "        Z, linear_cache = linear_forward(A_prev, W, b)\n",
    "        A, activation_cache = softmax(Z)\n",
    "    cache = (linear_cache, activation_cache)\n",
    "\n",
    "    return A, cache\n",
    "\n",
    "\n",
    "def L_model_forward(X, params):\n",
    "    caches = []\n",
    "    A = X\n",
    "    L = len(parameters) // 2\n",
    "    \n",
    "    for i in range(1, L):\n",
    "        A_prev = A\n",
    "        A, cache = linear_activation_forward(\n",
    "            A_prev, \n",
    "            params['W'+str(l)], \n",
    "            params['b'+str(l)])\n",
    "        caches.append(cache)    \n",
    "        \n",
    "    AL, cache = linear_activation_forward(\n",
    "            A_prev, \n",
    "            params['W'+str(l)], \n",
    "            params['b'+str(l)],\n",
    "            activation = \"softmax\")\n",
    "    caches.append(cache)\n",
    "    \n",
    "    return AL, caches"
   ]
  },
  {
   "cell_type": "code",
   "execution_count": 7,
   "metadata": {},
   "outputs": [],
   "source": [
    "def convert_to_onehot(Y, C):\n",
    "    Y = np.eye(C)[Y.reshape(-1)].T\n",
    "    return Y\n",
    "\n",
    "\n",
    "def compute_cost(AL, Y):\n",
    "    \"\"\"\n",
    "    Implement the cross-entropy loss function for one-hot encoded Y.\n",
    "    \"\"\"\n",
    "    m = Y.shape[1]   # Number of input data points\n",
    "    cost = np.sum(np.multiply(Y, np.log(AL)))*(-1.0/m)\n",
    "    cost = np.squeeze(cost)\n",
    "    \n",
    "    return cost"
   ]
  },
  {
   "cell_type": "code",
   "execution_count": 17,
   "metadata": {},
   "outputs": [
    {
     "data": {
      "text/plain": [
       "array([[0., 0., 0., 1., 1.],\n",
       "       [0., 0., 1., 0., 0.],\n",
       "       [0., 1., 0., 0., 0.],\n",
       "       [1., 0., 0., 0., 0.]])"
      ]
     },
     "execution_count": 17,
     "metadata": {},
     "output_type": "execute_result"
    }
   ],
   "source": [
    "convert_to_onehot(np.array([3,2,1,0,0]), 4)"
   ]
  },
  {
   "cell_type": "code",
   "execution_count": null,
   "metadata": {},
   "outputs": [],
   "source": []
  }
 ],
 "metadata": {
  "kernelspec": {
   "display_name": "Python 3",
   "language": "python",
   "name": "python3"
  },
  "language_info": {
   "codemirror_mode": {
    "name": "ipython",
    "version": 3
   },
   "file_extension": ".py",
   "mimetype": "text/x-python",
   "name": "python",
   "nbconvert_exporter": "python",
   "pygments_lexer": "ipython3",
   "version": "3.6.5"
  }
 },
 "nbformat": 4,
 "nbformat_minor": 2
}
